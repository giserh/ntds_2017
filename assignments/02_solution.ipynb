{
 "cells": [
  {
   "cell_type": "markdown",
   "metadata": {},
   "source": [
    "# [NTDS'17] assignment 2: network models\n",
    "[ntds'17]: https://github.com/mdeff/ntds_2017\n",
    "\n",
    "[Hermina Petric Maretic](https://people.epfl.ch/hermina.petricmaretic), [EPFL LTS4](http://lts4.epfl.ch)"
   ]
  },
  {
   "cell_type": "markdown",
   "metadata": {},
   "source": [
    "For this assignment we will work on a network representing the collaboration between scientists in the field of General Relativity and Quantum Cosmology. The network comes from [SNAP](http://snap.stanford.edu/data/ca-GrQc.html) and is described as follows:\n",
    "\n",
    "> Arxiv GR-QC (General Relativity and Quantum Cosmology) collaboration network is from the e-print [arXiv](https://arxiv.org) and covers scientific collaborations between authors papers submitted to General Relativity and Quantum Cosmology category. If an author *i* co-authored a paper with author *j*, the graph contains a undirected edge from *i* to *j*. If the paper is co-authored by *k* authors this generates a completely connected (sub)graph on *k* nodes. The data covers papers in the period from January 1993 to April 2003 (124 months). It begins within a few months of the inception of the arXiv."
   ]
  },
  {
   "cell_type": "code",
   "execution_count": 1,
   "metadata": {
    "collapsed": true
   },
   "outputs": [],
   "source": [
    "%matplotlib inline\n",
    "\n",
    "import os\n",
    "import random\n",
    "import matplotlib.pyplot as plt\n",
    "import networkx as nx\n",
    "import numpy as np\n",
    "import warnings\n",
    "warnings.filterwarnings('ignore')"
   ]
  },
  {
   "cell_type": "code",
   "execution_count": 2,
   "metadata": {},
   "outputs": [],
   "source": [
    "G = nx.read_edgelist(os.path.join('..', 'data', 'arxiv_collaboration_network.txt'))"
   ]
  },
  {
   "cell_type": "code",
   "execution_count": 3,
   "metadata": {},
   "outputs": [
    {
     "name": "stdout",
     "output_type": "stream",
     "text": [
      "My network has 5242 nodes.\n",
      "My network has 14496 edges.\n"
     ]
    }
   ],
   "source": [
    "print('My network has {} nodes.'.format(len(G.nodes())))\n",
    "print('My network has {} edges.'.format(G.size()))"
   ]
  },
  {
   "cell_type": "markdown",
   "metadata": {},
   "source": [
    "## 1. Comparing to model networks"
   ]
  },
  {
   "cell_type": "markdown",
   "metadata": {},
   "source": [
    "1.1 In this part of the assignment, you have to create an Erdős–Rényi and Barabási-Albert graph using NetworkX, and compare them to the collaboration network. Try to simulate the original network as best as you can. When choosing parameters for the networks, take into account the number of vertices and edges of the original network. The number of vertices should be exactly the same. Comment on your choice of parameters."
   ]
  },
  {
   "cell_type": "code",
   "execution_count": 4,
   "metadata": {
    "collapsed": true
   },
   "outputs": [],
   "source": [
    "n = len(G.nodes())\n",
    "m = G.size()\n",
    "p = m*2/(n*(n-1))\n",
    "er=nx.erdos_renyi_graph(n,p)\n",
    "ba=nx.barabasi_albert_graph(n,3)"
   ]
  },
  {
   "cell_type": "markdown",
   "metadata": {},
   "source": [
    "For the ER network, the expected number of edges is $$E[m] = pn(n-1)/2.$$\n",
    "For the BA network, m is fixed to $$m = q*(n-q),$$ where $q$ is the model parameter. \n",
    "\n",
    "Since $q$ had to be a natural number, $q=3$ gives the best approximation."
   ]
  },
  {
   "cell_type": "code",
   "execution_count": 5,
   "metadata": {},
   "outputs": [
    {
     "name": "stdout",
     "output_type": "stream",
     "text": [
      "My Erdos Renyi network has 5242 nodes.\n",
      "My Erdos Renyi network has 14368 edges.\n",
      "My Barabasi Albert network has 5242 nodes.\n",
      "My Barabasi Albert network has 15717 edges.\n"
     ]
    }
   ],
   "source": [
    "print('My Erdos Renyi network has {} nodes.'.format(len(er.nodes())))\n",
    "print('My Erdos Renyi network has {} edges.'.format(er.size()))\n",
    "print('My Barabasi Albert network has {} nodes.'.format(len(ba.nodes())))\n",
    "print('My Barabasi Albert network has {} edges.'.format(ba.size()))"
   ]
  },
  {
   "cell_type": "markdown",
   "metadata": {},
   "source": [
    "1.2 Check the size of the largest connected component in each graph and compare them to the original network. In the Erdős–Rényi model, what should the probability of creating each edge be in order to have the same expected size of the largest component? Justify. Generate a graph with this parameter to check if you indeed get a similar value."
   ]
  },
  {
   "cell_type": "code",
   "execution_count": 6,
   "metadata": {},
   "outputs": [
    {
     "name": "stdout",
     "output_type": "stream",
     "text": [
      "4158\n",
      "5223\n",
      "5242\n"
     ]
    }
   ],
   "source": [
    "giant_G = max(nx.connected_component_subgraphs(G), key=len)\n",
    "giant_er = max(nx.connected_component_subgraphs(er), key=len)\n",
    "giant_ba = max(nx.connected_component_subgraphs(ba), key=len)\n",
    "print(len(giant_G.nodes()))\n",
    "print(len(giant_er.nodes()))\n",
    "print(len(giant_ba.nodes()))"
   ]
  },
  {
   "cell_type": "markdown",
   "metadata": {},
   "source": [
    "We know from the lectures that in Erdős–Rényi networks, the fraction of nodes in the giant component $$S = \\frac{N_G}{N}$$ grows with the average degree by $$S = 1 - e^{-\\langle k \\rangle S}.$$ Therefore, as $\\langle k \\rangle = (N-1)p$:"
   ]
  },
  {
   "cell_type": "code",
   "execution_count": 7,
   "metadata": {},
   "outputs": [
    {
     "name": "stdout",
     "output_type": "stream",
     "text": [
      "The parameter p for an Erdos Renyi network with the same expected size of the giant component is 0.00037911157202514926.\n",
      "The size of the component in a randomly generated network with this parameter is 4157.\n"
     ]
    }
   ],
   "source": [
    "S_G = len(giant_G.nodes())/n\n",
    "p_giant = - np.log(1-S_G)/((n-1)*S_G)\n",
    "print('The parameter p for an Erdos Renyi network with the same expected size of the giant component is {}.'.format(p_giant))\n",
    "\n",
    "er_giant = max(nx.connected_component_subgraphs(nx.erdos_renyi_graph(n,p_giant)), key=len)\n",
    "print('The size of the component in a randomly generated network with this parameter is {}.'.format(len(er_giant.nodes())))"
   ]
  },
  {
   "cell_type": "markdown",
   "metadata": {},
   "source": [
    "1.3 Look at the clustering coefficient of the original network. Is there a network model we talked about that could have a clustering coefficient that is close? Explain."
   ]
  },
  {
   "cell_type": "code",
   "execution_count": 8,
   "metadata": {},
   "outputs": [
    {
     "data": {
      "text/plain": [
       "0.529635811052136"
      ]
     },
     "execution_count": 8,
     "metadata": {},
     "output_type": "execute_result"
    }
   ],
   "source": [
    "nx.average_clustering(G)"
   ]
  },
  {
   "cell_type": "markdown",
   "metadata": {},
   "source": [
    "Yes, the Watts - Strogatz model can have a very high clustering coefficient with the similar number of vertices and edges. This coefficient can be decreased with a high rewiring parameter, leaving the number of vertices and edges the same."
   ]
  },
  {
   "cell_type": "markdown",
   "metadata": {},
   "source": [
    "## 2. Creating a network with a predefined degree distribution"
   ]
  },
  {
   "cell_type": "markdown",
   "metadata": {},
   "source": [
    "In this part of the assignment, you will have to create a random network from a predefined degree distribution. There are several network models which can create a random network with the exact same degree distribution as the original, or with the same expected distribution as the original. Refer to section 4.8 of [the Barabási book](http://networksciencebook.com) for more information."
   ]
  },
  {
   "cell_type": "markdown",
   "metadata": {},
   "source": [
    "One of the most famous ones is the configuration model. The model for a graph with $L$ edges in total is constructed in the following steps:\n",
    "\n",
    "- Assign a degree to each node, represented as stubs (half-links). The degree sequence is either generated analytically from a preselected distribution, or it is extracted from the adjacency matrix of a real network. Note that we must start from an even number of stubs to avoid being left with unpaired stubs.\n",
    "- Randomly select a stub pair and connect them. Then randomly choose another pair from the remaining $2L - 2$ stubs and connect them. This procedure is repeated until all stubs are paired up.\n",
    "\n",
    "*Reminder:* A stub is a half-link, representing the half of an edge. It contains one node and can be paired up with another stub to create an edge (between the two corresponding nodes)."
   ]
  },
  {
   "cell_type": "markdown",
   "metadata": {},
   "source": [
    "2.1 However, this model allows for the creation of multi-links (multiple edges between the same pair of vertices) and self-loops, thus leading to a non-simple graph. In this assignment, you will implement a greedy configuration model, to avoid these problems."
   ]
  },
  {
   "cell_type": "markdown",
   "metadata": {},
   "source": [
    "2.1 However, this model allows for the creation of multi-links (multiple edges between the same pair of vertices) and self-loops, thus leading to a non-simple graph. In this assignment, you will implement a greedy configuration model, to avoid these problems.\n",
    "\n",
    "The algorithm goes as follows:\n",
    "- Extract the degree sequence from our collaboration network.\n",
    "- Assign a target degree to each node, represented as stubs or half-links. Use the degree sequence extracted from the collaboration network.\n",
    "- Sort the nodes by degree. \n",
    "    - Pick the node with the highest target degree. Delete all its stubs from the list of stubs to make sure we don't create a self loop.\n",
    "    - Until all its weighted degree equals its target degree: \n",
    "        - Randomly select one stub from the list of stubs (corresponding to one of the other nodes), and connect these two nodes. In case the two chosen nodes are already connected, simply increase the weight of this edge by one. Be careful to randomly select from stubs and not from nodes, as this means the chances of selecting a node will be proportional to its target degree.\n",
    "    - When the number of edges adjacent to this node corresponds to its target degree, go on to the second node in the list. \n",
    "    - Repeate this procedure until all stubs are paired up, or there is only one node left with a pair number of stubs. In that case, don't create a self-loop, but discard the stubs.\n",
    "    \n",
    "*Hints*: \n",
    " - Use `nx.empty_graph()` to create an empty graph.\n",
    " - Use `G.add_edge(node1,node2,weight = 1)` to add an edge to a weighted graph.\n",
    " - Use `G.edge[node1][node2]['weight'] += 1` to increment the weight of an edge by one."
   ]
  },
  {
   "cell_type": "code",
   "execution_count": 9,
   "metadata": {
    "collapsed": true
   },
   "outputs": [],
   "source": [
    "def greedy_configuration(degree_distribution):\n",
    "    N=len(degree_distribution)\n",
    "    G=nx.empty_graph()\n",
    "\n",
    "    degree_distribution = sorted(degree_distribution,reverse=True)\n",
    "    stublist=[]\n",
    "    for node in range(len(degree_distribution)):\n",
    "        for i in range(degree_distribution[node]):\n",
    "            stublist.append(node) \n",
    "    \n",
    "    for node in range(len(degree_distribution)):\n",
    "        for stub in range(degree_distribution[node]):\n",
    "            del stublist[0]\n",
    "        while(degree_distribution[node] and len(stublist) > 0):\n",
    "            ind = np.random.randint(0,len(stublist))\n",
    "            b = stublist.pop(ind)\n",
    "            if G.has_edge(node,b):\n",
    "                G.edge[node][b]['weight'] += 1\n",
    "            else:\n",
    "                G.add_edge(node,b,weight = 1)\n",
    "            \n",
    "            degree_distribution[node] = degree_distribution[node] - 1\n",
    "            degree_distribution[b] = degree_distribution[b] - 1\n",
    "    return G"
   ]
  },
  {
   "cell_type": "code",
   "execution_count": 10,
   "metadata": {
    "collapsed": true
   },
   "outputs": [],
   "source": [
    "degree_sequence=sorted(nx.degree(G).values(),reverse=True) # degree sequence\n",
    "gc = greedy_configuration(degree_sequence)"
   ]
  },
  {
   "cell_type": "markdown",
   "metadata": {},
   "source": [
    "2.2 Verify that the networks have the same number of nodes. Plot the difference between the weighted degree distributions to verify that they are identical. If not, why?"
   ]
  },
  {
   "cell_type": "code",
   "execution_count": 11,
   "metadata": {},
   "outputs": [
    {
     "name": "stdout",
     "output_type": "stream",
     "text": [
      "My network has 5242 nodes.\n"
     ]
    },
    {
     "data": {
      "image/png": "[encoded data removed]",
      "text/plain": [
       "<matplotlib.figure.Figure at 0x10a901b38>"
      ]
     },
     "metadata": {},
     "output_type": "display_data"
    }
   ],
   "source": [
    "print('My network has {} nodes.'.format(len(gc.nodes())))\n",
    "degree_sequence_gc=sorted(nx.degree(gc, weight = 'weight').values(),reverse=True)\n",
    "plt.plot(np.array(degree_sequence) - np.array(degree_sequence_gc));"
   ]
  },
  {
   "cell_type": "markdown",
   "metadata": {},
   "source": [
    "The number of nodes and weighted distributions are the same. However, they could've been different in case our algorithm finished with just one node and a pair number of stubs."
   ]
  },
  {
   "cell_type": "markdown",
   "metadata": {},
   "source": [
    "2.3 Should these two networks have the same adjacency matrices? Justify."
   ]
  },
  {
   "cell_type": "markdown",
   "metadata": {},
   "source": [
    "No, the configuration model only tries to ensure the weighted degree distributions are the same. However, it still chooses connections between nodes randomly and there is no reason to expect the same structure. Having the same adjacency matrices would mean having identical graphs. In addition, having the same weighted degrees doesn't even guarantee the same number of neighbors for corresponding nodes."
   ]
  },
  {
   "cell_type": "markdown",
   "metadata": {},
   "source": [
    "2.4 Draw both the generated and original networks. Are they similar? If not, why? Try to explain."
   ]
  },
  {
   "cell_type": "code",
   "execution_count": 12,
   "metadata": {},
   "outputs": [
    {
     "data": {
      "image/png": "[encoded data removed]",
      "text/plain": [
       "<matplotlib.figure.Figure at 0x10f365198>"
      ]
     },
     "metadata": {},
     "output_type": "display_data"
    }
   ],
   "source": [
    "nx.draw(G,node_size = 5)"
   ]
  },
  {
   "cell_type": "code",
   "execution_count": 13,
   "metadata": {},
   "outputs": [
    {
     "data": {
      "image/png": "[encoded data removed]",
      "text/plain": [
       "<matplotlib.figure.Figure at 0x117182d68>"
      ]
     },
     "metadata": {},
     "output_type": "display_data"
    }
   ],
   "source": [
    "nx.draw(gc,node_size = 5)"
   ]
  },
  {
   "cell_type": "markdown",
   "metadata": {},
   "source": [
    "Not really. We can see that the random graph has a much larger giant component. This is due to the special structure of the collaboration graph, with a lot of well connected small groups that collaborate within, but not to the outside. The random model couldn't capture this structure."
   ]
  },
  {
   "cell_type": "markdown",
   "metadata": {},
   "source": [
    "2.5 Do you expect the properties studied in the first part of the assignment to be close to the original graph? Justify."
   ]
  },
  {
   "cell_type": "markdown",
   "metadata": {},
   "source": [
    "We expect the number of nodes and edges to be similar by design. However, as we've seen in ex 2.4, the size of the giant component is quite larger. As for the clustering coefficient, we know from the first part that the original graph has a very large clustering coefficient. Therefore, we don't expect the random graph to have a similar value."
   ]
  }
 ],
 "metadata": {
  "kernelspec": {
   "display_name": "Python 3",
   "language": "python",
   "name": "python3"
  },
  "language_info": {
   "codemirror_mode": {
    "name": "ipython",
    "version": 3
   },
   "file_extension": ".py",
   "mimetype": "text/x-python",
   "name": "python",
   "nbconvert_exporter": "python",
   "pygments_lexer": "ipython3",
   "version": "3.6.2"
  }
 },
 "nbformat": 4,
 "nbformat_minor": 2
}
